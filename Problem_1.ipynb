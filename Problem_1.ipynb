{
 "cells": [
  {
   "cell_type": "markdown",
   "metadata": {},
   "source": [
    "# Problem 1: Language Modeling with RNNs\n",
    "* <b>Learning Objective:</b> In this problem, you are going to implement simple recurrent neural networks to deeply understand how RNNs works.\n",
    "* <b>Provided Code:</b> We provide the skeletons of classes you need to complete. Forward checking and gradient checkings are provided for verifying your implementation as well.\n",
    "* <b>TODOs:</b> you will firstly implement a vanilla RNN to get warm up, and then implement an LSTM to train a model that can generate text using your own text source (novel, lyrics etc)."
   ]
  },
  {
   "cell_type": "code",
   "execution_count": 1,
   "metadata": {},
   "outputs": [],
   "source": [
    "from lib.rnn import *\n",
    "from lib.layer_utils import *\n",
    "from lib.grad_check import *\n",
    "from lib.optim import *\n",
    "from lib.train import *\n",
    "import numpy as np\n",
    "import matplotlib.pyplot as plt\n",
    "\n",
    "%matplotlib inline\n",
    "plt.rcParams['figure.figsize'] = (10.0, 8.0) # set default size of plots\n",
    "plt.rcParams['image.interpolation'] = 'nearest'\n",
    "plt.rcParams['image.cmap'] = 'gray'\n",
    "\n",
    "# for auto-reloading external modules\n",
    "# see http://stackoverflow.com/questions/1907993/autoreload-of-modules-in-ipython\n",
    "%load_ext autoreload\n",
    "%autoreload 2"
   ]
  },
  {
   "cell_type": "markdown",
   "metadata": {},
   "source": [
    "# Recurrent Neural Networks\n",
    "We will use recurrent neural network (RNN) language models for text generation.\n",
    "\n",
    "Please complete the TODOs in the function `VanillaRNN` of the file `lib/layer_utils.py` which should contain implementations of different layer types that are needed for recurrent neural networks.\n",
    "\n",
    "And then, complete the TODOs in the file `lib/rnn.py` which uses these layers to implement an text generation model."
   ]
  },
  {
   "cell_type": "markdown",
   "metadata": {},
   "source": [
    "# Vanilla RNN: step forward\n",
    "Open the file `lib/layer_utils.py`. Implement the forward and backward passes for different types of layers that are commonly used in recurrent neural networks.\n",
    "\n",
    "First complete the implementation of the function `step_forward` which implements the forward pass for a single timestep of a vanilla recurrent neural network.\n",
    "\n",
    "After doing so run the following code. You should see errors less than 1e-8."
   ]
  },
  {
   "cell_type": "code",
   "execution_count": 2,
   "metadata": {},
   "outputs": [
    {
     "name": "stdout",
     "output_type": "stream",
     "text": [
      "next_h error:  6.292421426471037e-09\n"
     ]
    }
   ],
   "source": [
    "%reload_ext autoreload\n",
    "\n",
    "N, D, H = 3, 10, 4\n",
    "\n",
    "rnn = VanillaRNN(D, H, init_scale=0.02, name=\"rnn_test\")\n",
    "x = np.linspace(-0.4, 0.7, num=N*D).reshape(N, D)\n",
    "prev_h = np.linspace(-0.2, 0.5, num=N*H).reshape(N, H)\n",
    "\n",
    "rnn.params[rnn.wx_name] = np.linspace(-0.1, 0.9, num=D*H).reshape(D, H)\n",
    "rnn.params[rnn.wh_name] = np.linspace(-0.3, 0.7, num=H*H).reshape(H, H)\n",
    "rnn.params[rnn.b_name] = np.linspace(-0.2, 0.4, num=H)\n",
    "\n",
    "next_h, _ = rnn.step_forward(x, prev_h)\n",
    "expected_next_h = np.asarray([\n",
    "  [-0.58172089, -0.50182032, -0.41232771, -0.31410098],\n",
    "  [ 0.66854692,  0.79562378,  0.87755553,  0.92795967],\n",
    "  [ 0.97934501,  0.99144213,  0.99646691,  0.99854353]])\n",
    "\n",
    "print('next_h error: ', rel_error(expected_next_h, next_h))"
   ]
  },
  {
   "cell_type": "markdown",
   "metadata": {},
   "source": [
    "# Vanilla RNN: step backward\n",
    "In the `VanillaRNN` class in the file `lib/layer_utils.py` complete the `step_backward` function.\n",
    "\n",
    "After doing so run the following to numerically gradient check the implementation. You should see errors less than `1e-8`."
   ]
  },
  {
   "cell_type": "code",
   "execution_count": 3,
   "metadata": {},
   "outputs": [
    {
     "name": "stdout",
     "output_type": "stream",
     "text": [
      "dx error:  5.473855898318782e-10\n",
      "dprev_h error:  2.4550958628123683e-10\n",
      "dWx error:  1.264200416692046e-10\n",
      "dWh error:  3.1863456358952086e-10\n",
      "db error:  1.655233896888798e-11\n"
     ]
    }
   ],
   "source": [
    "%reload_ext autoreload\n",
    "\n",
    "np.random.seed(231)\n",
    "N, D, H = 4, 5, 6\n",
    "\n",
    "rnn = VanillaRNN(D, H, init_scale=0.02, name=\"rnn_test\")\n",
    "\n",
    "x = np.random.randn(N, D)\n",
    "h = np.random.randn(N, H)\n",
    "Wx = np.random.randn(D, H)\n",
    "Wh = np.random.randn(H, H)\n",
    "b = np.random.randn(H)\n",
    "\n",
    "rnn.params[rnn.wx_name] = Wx\n",
    "rnn.params[rnn.wh_name] = Wh\n",
    "rnn.params[rnn.b_name] = b\n",
    "\n",
    "out, meta = rnn.step_forward(x, h)\n",
    "\n",
    "dnext_h = np.random.randn(*out.shape)\n",
    "\n",
    "dx_num = eval_numerical_gradient_array(lambda x: rnn.step_forward(x, h)[0], x, dnext_h)\n",
    "dprev_h_num = eval_numerical_gradient_array(lambda h: rnn.step_forward(x, h)[0], h, dnext_h)\n",
    "dWx_num = eval_numerical_gradient_array(lambda Wx: rnn.step_forward(x, h)[0], Wx, dnext_h)\n",
    "dWh_num = eval_numerical_gradient_array(lambda Wh: rnn.step_forward(x, h)[0], Wh, dnext_h)\n",
    "db_num = eval_numerical_gradient_array(lambda b: rnn.step_forward(x, h)[0], b, dnext_h)\n",
    "\n",
    "dx, dprev_h, dWx, dWh, db = rnn.step_backward(dnext_h, meta)\n",
    "\n",
    "print('dx error: ', rel_error(dx_num, dx))\n",
    "print('dprev_h error: ', rel_error(dprev_h_num, dprev_h))\n",
    "print('dWx error: ', rel_error(dWx_num, dWx))\n",
    "print('dWh error: ', rel_error(dWh_num, dWh))\n",
    "print('db error: ', rel_error(db_num, db))"
   ]
  },
  {
   "cell_type": "markdown",
   "metadata": {},
   "source": [
    "# Vanilla RNN: forward\n",
    "Now that you have  completed the forward and backward passes for a single timestep of a vanilla RNN, you will see how they are combined to implement a RNN that process an entire sequence of data.\n",
    "\n",
    "In the `VanillaRNN` class in the file `lib/layer_utils.py`, complete the function `forward`. This is implemented using the `step_forward` function that you defined above.\n",
    "\n",
    "After doing so run the following to check the implementation. You should see errors less than `1e-7`."
   ]
  },
  {
   "cell_type": "code",
   "execution_count": 4,
   "metadata": {},
   "outputs": [
    {
     "name": "stdout",
     "output_type": "stream",
     "text": [
      "h error:  7.728466158305164e-08\n"
     ]
    }
   ],
   "source": [
    "%reload_ext autoreload\n",
    "\n",
    "N, T, D, H = 2, 3, 4, 5\n",
    "\n",
    "rnn = VanillaRNN(D, H, init_scale=0.02, name=\"rnn_test\")\n",
    "\n",
    "x = np.linspace(-0.1, 0.3, num=N*T*D).reshape(N, T, D)\n",
    "h0 = np.linspace(-0.3, 0.1, num=N*H).reshape(N, H)\n",
    "Wx = np.linspace(-0.2, 0.4, num=D*H).reshape(D, H)\n",
    "Wh = np.linspace(-0.4, 0.1, num=H*H).reshape(H, H)\n",
    "b = np.linspace(-0.7, 0.1, num=H)\n",
    "\n",
    "rnn.params[rnn.wx_name] = Wx\n",
    "rnn.params[rnn.wh_name] = Wh\n",
    "rnn.params[rnn.b_name] = b\n",
    "\n",
    "h = rnn.forward(x, h0)\n",
    "expected_h = np.asarray([\n",
    "  [\n",
    "    [-0.42070749, -0.27279261, -0.11074945,  0.05740409,  0.22236251],\n",
    "    [-0.39525808, -0.22554661, -0.0409454,   0.14649412,  0.32397316],\n",
    "    [-0.42305111, -0.24223728, -0.04287027,  0.15997045,  0.35014525],\n",
    "  ],\n",
    "  [\n",
    "    [-0.55857474, -0.39065825, -0.19198182,  0.02378408,  0.23735671],\n",
    "    [-0.27150199, -0.07088804,  0.13562939,  0.33099728,  0.50158768],\n",
    "    [-0.51014825, -0.30524429, -0.06755202,  0.17806392,  0.40333043]]])\n",
    "print('h error: ', rel_error(expected_h, h))"
   ]
  },
  {
   "cell_type": "markdown",
   "metadata": {},
   "source": [
    "# Vanilla RNN: backward\n",
    "In the file `lib/layer_utils.py`, complete the backward pass for a vanilla RNN in the function `backward` in the `VanillaRNN` class. This runs back-propagation over the entire sequence, calling into the `step_backward` function defined above.\n",
    "\n",
    "You should see errors less than 5e-7."
   ]
  },
  {
   "cell_type": "code",
   "execution_count": 5,
   "metadata": {},
   "outputs": [
    {
     "name": "stdout",
     "output_type": "stream",
     "text": [
      "dx error:  2.3268199327340453e-08\n",
      "dh0 error:  8.348804438749999e-10\n",
      "dWx error:  2.069994965559951e-08\n",
      "dWh error:  1.5121577578460845e-08\n",
      "db error:  3.282876609476136e-10\n"
     ]
    }
   ],
   "source": [
    "%reload_ext autoreload\n",
    "\n",
    "np.random.seed(231)\n",
    "\n",
    "N, D, T, H = 2, 3, 10, 5\n",
    "\n",
    "rnn = VanillaRNN(D, H, init_scale=0.02, name=\"rnn_test\")\n",
    "\n",
    "x = np.random.randn(N, T, D)\n",
    "h0 = np.random.randn(N, H)\n",
    "Wx = np.random.randn(D, H)\n",
    "Wh = np.random.randn(H, H)\n",
    "b = np.random.randn(H)\n",
    "\n",
    "rnn.params[rnn.wx_name] = Wx\n",
    "rnn.params[rnn.wh_name] = Wh\n",
    "rnn.params[rnn.b_name] = b\n",
    "\n",
    "out = rnn.forward(x, h0)\n",
    "\n",
    "dout = np.random.randn(*out.shape)\n",
    "\n",
    "dx, dh0 = rnn.backward(dout)\n",
    "\n",
    "dx_num = eval_numerical_gradient_array(lambda x: rnn.forward(x, h0), x, dout)\n",
    "dh0_num = eval_numerical_gradient_array(lambda h0: rnn.forward(x, h0), h0, dout)\n",
    "dWx_num = eval_numerical_gradient_array(lambda Wx: rnn.forward(x, h0), Wx, dout)\n",
    "dWh_num = eval_numerical_gradient_array(lambda Wh: rnn.forward(x, h0), Wh, dout)\n",
    "db_num = eval_numerical_gradient_array(lambda b: rnn.forward(x, h0), b, dout)\n",
    "\n",
    "dWx = rnn.grads[rnn.wx_name]\n",
    "dWh = rnn.grads[rnn.wh_name]\n",
    "db = rnn.grads[rnn.b_name]\n",
    "\n",
    "print('dx error: ', rel_error(dx_num, dx))\n",
    "print('dh0 error: ', rel_error(dh0_num, dh0))\n",
    "print('dWx error: ', rel_error(dWx_num, dWx))\n",
    "print('dWh error: ', rel_error(dWh_num, dWh))\n",
    "print('db error: ', rel_error(db_num, db))"
   ]
  },
  {
   "cell_type": "markdown",
   "metadata": {},
   "source": [
    "# Word embedding: forward\n",
    "In deep learning systems, we commonly represent words using vectors. Each word of the vocabulary will be associated with a vector, and these vectors will be learned jointly with the rest of the system.\n",
    "\n",
    "In the file `lib/layer_utils.py`, implement the function `forward` in the `word_embedding` class to convert words (represented by integers) into vectors. Run the following to check the implementation. You should see error around `1e-8`."
   ]
  },
  {
   "cell_type": "code",
   "execution_count": 6,
   "metadata": {},
   "outputs": [
    {
     "name": "stdout",
     "output_type": "stream",
     "text": [
      "out error:  1.0000000094736443e-08\n"
     ]
    }
   ],
   "source": [
    "%reload_ext autoreload\n",
    "\n",
    "N, T, V, D = 2, 4, 5, 3\n",
    "\n",
    "we = word_embedding(V, D, name=\"we\")\n",
    "\n",
    "x = np.asarray([[0, 3, 1, 2], [2, 1, 0, 3]])\n",
    "W = np.linspace(0, 1, num=V*D).reshape(V, D)\n",
    "\n",
    "we.params[we.w_name] = W\n",
    "\n",
    "out = we.forward(x)\n",
    "expected_out = np.asarray([\n",
    " [[ 0.,          0.07142857,  0.14285714],\n",
    "  [ 0.64285714,  0.71428571,  0.78571429],\n",
    "  [ 0.21428571,  0.28571429,  0.35714286],\n",
    "  [ 0.42857143,  0.5,         0.57142857]],\n",
    " [[ 0.42857143,  0.5,         0.57142857],\n",
    "  [ 0.21428571,  0.28571429,  0.35714286],\n",
    "  [ 0.,          0.07142857,  0.14285714],\n",
    "  [ 0.64285714,  0.71428571,  0.78571429]]])\n",
    "\n",
    "print('out error: ', rel_error(expected_out, out))"
   ]
  },
  {
   "cell_type": "markdown",
   "metadata": {},
   "source": [
    "# Word embedding: backward\n",
    "Implement the backward pass for the word embedding function in the function `backward` in the `word_embedding` class. After doing so run the following to numerically gradient check your implementation. You should see errors less than `1e-11`."
   ]
  },
  {
   "cell_type": "code",
   "execution_count": 7,
   "metadata": {},
   "outputs": [
    {
     "name": "stdout",
     "output_type": "stream",
     "text": [
      "dW error:  3.2759440934795915e-12\n"
     ]
    }
   ],
   "source": [
    "%reload_ext autoreload\n",
    "\n",
    "np.random.seed(231)\n",
    "\n",
    "N, T, V, D = 50, 3, 5, 6\n",
    "\n",
    "we = word_embedding(V, D, name=\"we\")\n",
    "\n",
    "x = np.random.randint(V, size=(N, T))\n",
    "W = np.random.randn(V, D)\n",
    "\n",
    "we.params[we.w_name] = W\n",
    "\n",
    "out = we.forward(x)\n",
    "dout = np.random.randn(*out.shape)\n",
    "we.backward(dout)\n",
    "\n",
    "dW = we.grads[we.w_name]\n",
    "\n",
    "f = lambda W: we.forward(x)\n",
    "dW_num = eval_numerical_gradient_array(f, W, dout)\n",
    "\n",
    "print('dW error: ', rel_error(dW, dW_num))"
   ]
  },
  {
   "cell_type": "markdown",
   "metadata": {},
   "source": [
    "# Temporal Fully Connected layer\n",
    "At every timestep we use an affine function to transform the RNN hidden vector at that timestep into scores for each word in the vocabulary. Because this is very similar to the fully connected layer that you implemented in assignment 1, we have provided this function for you in the `forward` and `backward` functions in the file `lib/layer_util.py`. Run the following to perform numeric gradient checking on the implementation. You should see errors less than 1e-9."
   ]
  },
  {
   "cell_type": "code",
   "execution_count": 8,
   "metadata": {},
   "outputs": [
    {
     "name": "stdout",
     "output_type": "stream",
     "text": [
      "dx error:  3.2269470390098687e-10\n",
      "dw error:  3.8595619942595054e-11\n",
      "db error:  1.1455396263586309e-11\n"
     ]
    }
   ],
   "source": [
    "%reload_ext autoreload\n",
    "\n",
    "np.random.seed(231)\n",
    "\n",
    "# Gradient check for temporal affine layer\n",
    "N, T, D, M = 2, 3, 4, 5\n",
    "\n",
    "t_fc = temporal_fc(D, M, init_scale=0.02, name='test_t_fc')\n",
    "\n",
    "x = np.random.randn(N, T, D)\n",
    "w = np.random.randn(D, M)\n",
    "b = np.random.randn(M)\n",
    "\n",
    "t_fc.params[t_fc.w_name] = w\n",
    "t_fc.params[t_fc.b_name] = b\n",
    "\n",
    "out = t_fc.forward(x)\n",
    "\n",
    "dout = np.random.randn(*out.shape)\n",
    "\n",
    "dx_num = eval_numerical_gradient_array(lambda x: t_fc.forward(x), x, dout)\n",
    "dw_num = eval_numerical_gradient_array(lambda w: t_fc.forward(x), w, dout)\n",
    "db_num = eval_numerical_gradient_array(lambda b: t_fc.forward(x), b, dout)\n",
    "\n",
    "dx = t_fc.backward(dout)\n",
    "dw = t_fc.grads[t_fc.w_name]\n",
    "db = t_fc.grads[t_fc.b_name]\n",
    "\n",
    "print('dx error: ', rel_error(dx_num, dx))\n",
    "print('dw error: ', rel_error(dw_num, dw))\n",
    "print('db error: ', rel_error(db_num, db))"
   ]
  },
  {
   "cell_type": "markdown",
   "metadata": {},
   "source": [
    "# Temporal Softmax loss\n",
    "In an RNN language model, at every timestep we produce a score for each word in the vocabulary. We know the ground-truth word at each timestep, so we use a softmax loss function to compute loss and gradient at each timestep. We sum the losses over time and average them over the minibatch.\n",
    "\n",
    "We provide this loss function for you; look at the `temporal_softmax_loss` function in the file `lib/layer_utils.py`.\n",
    "\n",
    "Run the following cell to sanity check the loss and perform numeric gradient checking on the function. You should see an error for dx less than 1e-7."
   ]
  },
  {
   "cell_type": "code",
   "execution_count": 9,
   "metadata": {},
   "outputs": [
    {
     "name": "stdout",
     "output_type": "stream",
     "text": [
      "2.3026547279318357\n",
      "23.026307039328714\n",
      "2.2989009292538665\n",
      "dx error:  4.0464746298031226e-08\n"
     ]
    }
   ],
   "source": [
    "%reload_ext autoreload\n",
    "\n",
    "loss_func = temporal_softmax_loss()\n",
    "\n",
    "# Sanity check for temporal softmax loss\n",
    "N, T, V = 100, 1, 10\n",
    "\n",
    "def check_loss(N, T, V, p):\n",
    "    x = 0.001 * np.random.randn(N, T, V)\n",
    "    y = np.random.randint(V, size=(N, T))\n",
    "    mask = np.random.rand(N, T) <= p\n",
    "    print(loss_func.forward(x, y, mask))\n",
    "  \n",
    "check_loss(100, 1, 10, 1.0)   # Should be about 2.3\n",
    "check_loss(100, 10, 10, 1.0)  # Should be about 23\n",
    "check_loss(5000, 10, 10, 0.1) # Should be about 2.3\n",
    "\n",
    "# Gradient check for temporal softmax loss\n",
    "N, T, V = 7, 8, 9\n",
    "\n",
    "x = np.random.randn(N, T, V)\n",
    "y = np.random.randint(V, size=(N, T))\n",
    "mask = (np.random.rand(N, T) > 0.5)\n",
    "\n",
    "loss = loss_func.forward(x, y, mask)\n",
    "dx = loss_func.backward()\n",
    "\n",
    "dx_num = eval_numerical_gradient(lambda x: loss_func.forward(x, y, mask), x, verbose=False)\n",
    "\n",
    "print('dx error: ', rel_error(dx, dx_num))"
   ]
  },
  {
   "cell_type": "markdown",
   "metadata": {},
   "source": [
    "# RNN for language modeling\n",
    "Now that you have the necessary layers, you can combine them to build a language modeling model. Open the file `lib/rnn.py` and look at the `TestRNN` class.\n",
    "\n",
    "Check the forward and backward pass of the model in the `loss` function. For now you only see the implementation of the case where `cell_type='rnn'` for vanilla RNNs; you will implement the LSTM case later. After doing so, run the following to check the forward pass using a small test case; you should see error less than `1e-10`."
   ]
  },
  {
   "cell_type": "code",
   "execution_count": 10,
   "metadata": {
    "scrolled": false
   },
   "outputs": [
    {
     "name": "stdout",
     "output_type": "stream",
     "text": [
      "loss:  51.094918913361184\n",
      "expected loss:  51.0949189134\n",
      "difference:  3.881694965457427e-11\n"
     ]
    }
   ],
   "source": [
    "%reload_ext autoreload\n",
    "\n",
    "N, D, H = 10, 20, 40\n",
    "V = 4\n",
    "T = 13\n",
    "\n",
    "model = TestRNN(D, H, cell_type='rnn')\n",
    "loss_func = temporal_softmax_loss()\n",
    "\n",
    "# Set all model parameters to fixed values\n",
    "for k, v in model.params.items():\n",
    "    model.params[k] = np.linspace(-1.4, 1.3, num=v.size).reshape(*v.shape)\n",
    "model.assign_params()\n",
    "\n",
    "features = np.linspace(-1.5, 0.3, num=(N * D * T)).reshape(N, T, D)\n",
    "h0 = np.linspace(-1.5, 0.5, num=(N*H)).reshape(N, H)\n",
    "labels = (np.arange(N * T) % V).reshape(N, T)\n",
    "\n",
    "pred = model.forward(features, h0)\n",
    "\n",
    "# You'll need this\n",
    "mask = np.ones((N, T))\n",
    "\n",
    "loss = loss_func.forward(pred, labels, mask)\n",
    "dLoss = loss_func.backward()\n",
    "\n",
    "expected_loss = 51.0949189134\n",
    "\n",
    "print('loss: ', loss)\n",
    "print('expected loss: ', expected_loss)\n",
    "print('difference: ', abs(loss - expected_loss))"
   ]
  },
  {
   "cell_type": "markdown",
   "metadata": {},
   "source": [
    "Run the following cell to perform numeric gradient checking on the `TestRNN` class; you should errors around `1e-7` or less."
   ]
  },
  {
   "cell_type": "code",
   "execution_count": 11,
   "metadata": {},
   "outputs": [
    {
     "name": "stdout",
     "output_type": "stream",
     "text": [
      "vanilla_rnn_b relative error: 9.451394e-08\n",
      "vanilla_rnn_wh relative error: 3.221744e-08\n",
      "vanilla_rnn_wx relative error: 9.508480e-08\n"
     ]
    }
   ],
   "source": [
    "%reload_ext autoreload\n",
    "\n",
    "np.random.seed(231)\n",
    "\n",
    "batch_size = 2\n",
    "timesteps = 3\n",
    "input_dim = 4\n",
    "hidden_dim = 6\n",
    "label_size = 4\n",
    "\n",
    "labels = np.random.randint(label_size, size=(batch_size, timesteps))\n",
    "features = np.random.randn(batch_size, timesteps, input_dim)\n",
    "h0 = np.random.randn(batch_size, hidden_dim)\n",
    "\n",
    "model = TestRNN(input_dim, hidden_dim, cell_type='rnn')\n",
    "loss_func = temporal_softmax_loss()\n",
    "\n",
    "pred = model.forward(features, h0)\n",
    "\n",
    "# You'll need this\n",
    "mask = np.ones((batch_size, timesteps))\n",
    "\n",
    "loss = loss_func.forward(pred, labels, mask)\n",
    "dLoss = loss_func.backward()\n",
    "\n",
    "dout, dh0 = model.backward(dLoss)\n",
    "\n",
    "grads = model.grads\n",
    "\n",
    "for param_name in sorted(grads):\n",
    "    \n",
    "    f = lambda _: loss_func.forward(model.forward(features, h0), labels, mask)\n",
    "    param_grad_num = eval_numerical_gradient(f, model.params[param_name], verbose=False, h=1e-6)\n",
    "    e = rel_error(param_grad_num, grads[param_name])\n",
    "    print('%s relative error: %e' % (param_name, e))"
   ]
  },
  {
   "cell_type": "markdown",
   "metadata": {},
   "source": [
    "# LSTM\n",
    "Vanilla RNNs can be tough to train on long sequences due to vanishing and exploding gradiants. LSTMs solve this problem by replacing the simple update rule of the vanilla RNN with a gating mechanism as follows.\n",
    "\n",
    "Similar to the vanilla RNN, at each timestep we receive an input $x_t\\\\in\\\\mathbb{R}^D$ and the previous hidden state $h_{t-1}\\\\in\\\\mathbb{R}^H$; what is different in the LSTM is to maintain an $H$-dimensional *cell state*, so we also receive the previous cell state $c_{t-1}\\\\in\\\\mathbb{R}^H$. The learnable parameters of the LSTM are an *input-to-hidden* matrix $W_x\\\\in\\\\mathbb{R}^{4H\\\\times D}$, a *hidden-to-hidden* matrix $W_h\\\\in\\\\mathbb{R}^{4H\\\\times H}$ and a *bias vector* $b\\\\in\\\\mathbb{R}^{4H}$.\n",
    "\n",
    "At each timestep we first compute an *activation vector* $a\\in\\mathbb{R}^{4H}$ as $a=W_xx_t + W_hh_{t-1}+b$. We then divide this into four vectors $a_i,a_f,a_o,a_g\\in\\mathbb{R}^H$ where $a_i$ consists of the first $H$ elements of $a$, $a_f$ is the next $H$ elements of $a$, etc. We then compute the *input gate* $g\\in\\mathbb{R}^H$, *forget gate* $f\\in\\mathbb{R}^H$, *output gate* $o\\in\\mathbb{R}^H$ and *gate gate* $g\\in\\mathbb{R}^H$ as\n",
    "\n",
    "$$\n",
    "\\begin{align*}\n",
    "i = \\sigma(a_i) \\hspace{2pc}\n",
    "f = \\sigma(a_f) \\hspace{2pc}\n",
    "o = \\sigma(a_o) \\hspace{2pc}\n",
    "g = \\tanh(a_g)\n",
    "\\end{align*}\n",
    "$$\n",
    "\n",
    "where $\\sigma$ is the sigmoid function and $\\tanh$ is the hyperbolic tangent, both applied elementwise.\n",
    "\n",
    "Finally we compute the next cell state $c_t$ and next hidden state $h_t$ as\n",
    "\n",
    "$$\n",
    "c_{t} = f\\odot c_{t-1} + i\\odot g \\hspace{4pc}\n",
    "h_t = o\\odot\\tanh(c_t)\n",
    "$$\n",
    "\n",
    "where $\\odot$ is the elementwise product of vectors.\n",
    "\n",
    "In the rest of the notebook we will implement the LSTM update rule and apply it to the text generation task. \n",
    "\n",
    "In the code, we assume that data is stored in batches so that $X_t \\in \\mathbb{R}^{N\\times D}$, and will work with *transposed* versions of the parameters: $W_x \\in \\mathbb{R}^{D \\times 4H}$, $W_h \\in \\mathbb{R}^{H\\times 4H}$ so that activations $A \\in \\mathbb{R}^{N\\times 4H}$ can be computed efficiently as $A = X_t W_x + H_{t-1} W_h$"
   ]
  },
  {
   "cell_type": "markdown",
   "metadata": {},
   "source": [
    "# LSTM: step forward\n",
    "Implement the forward pass for a single timestep of an LSTM in the `step_forward` function in the file `lib/layer_utils.py`. This should be similar to the `step_forward` function that you implemented above, but using the LSTM update rule instead.\n",
    "\n",
    "Once you are done, run the following to perform a simple test of your implementation. You should see errors around `1e-8` or less."
   ]
  },
  {
   "cell_type": "code",
   "execution_count": 12,
   "metadata": {},
   "outputs": [
    {
     "name": "stdout",
     "output_type": "stream",
     "text": [
      "next_h error:  5.7054131967097955e-09\n",
      "next_c error:  5.8143123088804145e-09\n"
     ]
    }
   ],
   "source": [
    "%reload_ext autoreload\n",
    "\n",
    "N, D, H = 3, 4, 5\n",
    "\n",
    "lstm = LSTM(D, H, init_scale=0.02, name='test_lstm')\n",
    "\n",
    "x = np.linspace(-0.4, 1.2, num=N*D).reshape(N, D)\n",
    "prev_h = np.linspace(-0.3, 0.7, num=N*H).reshape(N, H)\n",
    "prev_c = np.linspace(-0.4, 0.9, num=N*H).reshape(N, H)\n",
    "Wx = np.linspace(-2.1, 1.3, num=4*D*H).reshape(D, 4 * H)\n",
    "Wh = np.linspace(-0.7, 2.2, num=4*H*H).reshape(H, 4 * H)\n",
    "b = np.linspace(0.3, 0.7, num=4*H)\n",
    "\n",
    "lstm.params[lstm.wx_name] = Wx\n",
    "lstm.params[lstm.wh_name] = Wh\n",
    "lstm.params[lstm.b_name] = b\n",
    "\n",
    "next_h, next_c, cache = lstm.step_forward(x, prev_h, prev_c)\n",
    "\n",
    "expected_next_h = np.asarray([\n",
    "    [ 0.24635157,  0.28610883,  0.32240467,  0.35525807,  0.38474904],\n",
    "    [ 0.49223563,  0.55611431,  0.61507696,  0.66844003,  0.7159181 ],\n",
    "    [ 0.56735664,  0.66310127,  0.74419266,  0.80889665,  0.858299  ]])\n",
    "expected_next_c = np.asarray([\n",
    "    [ 0.32986176,  0.39145139,  0.451556,    0.51014116,  0.56717407],\n",
    "    [ 0.66382255,  0.76674007,  0.87195994,  0.97902709,  1.08751345],\n",
    "    [ 0.74192008,  0.90592151,  1.07717006,  1.25120233,  1.42395676]])\n",
    "\n",
    "print('next_h error: ', rel_error(expected_next_h, next_h))\n",
    "print('next_c error: ', rel_error(expected_next_c, next_c))"
   ]
  },
  {
   "cell_type": "markdown",
   "metadata": {},
   "source": [
    "# LSTM: step backward\n",
    "Implement the backward pass for a single LSTM timestep in the function `step_backward` in the file `lib/layer_utils.py`. Once you are done, run the following to perform numeric gradient checking on your implementation. You should see errors around `1e-6` or less."
   ]
  },
  {
   "cell_type": "code",
   "execution_count": 13,
   "metadata": {},
   "outputs": [
    {
     "name": "stdout",
     "output_type": "stream",
     "text": [
      "dx error:  2.1077529609580335e-10\n",
      "dh error:  1.2487178966668485e-08\n",
      "dc error:  2.2753589849551476e-09\n",
      "dWx error:  1.6537270645338068e-07\n",
      "dWh error:  2.787261668871591e-07\n",
      "db error:  5.756527137503347e-08\n"
     ]
    }
   ],
   "source": [
    "%reload_ext autoreload\n",
    "\n",
    "np.random.seed(231)\n",
    "\n",
    "N, D, H = 4, 5, 6\n",
    "\n",
    "lstm = LSTM(D, H, init_scale=0.02, name='test_lstm')\n",
    "\n",
    "x = np.random.randn(N, D)\n",
    "prev_h = np.random.randn(N, H)\n",
    "prev_c = np.random.randn(N, H)\n",
    "Wx = np.random.randn(D, 4 * H)\n",
    "Wh = np.random.randn(H, 4 * H)\n",
    "b = np.random.randn(4 * H)\n",
    "\n",
    "lstm.params[lstm.wx_name] = Wx\n",
    "lstm.params[lstm.wh_name] = Wh\n",
    "lstm.params[lstm.b_name] = b\n",
    "\n",
    "next_h, next_c, cache = lstm.step_forward(x, prev_h, prev_c)\n",
    "\n",
    "dnext_h = np.random.randn(*next_h.shape)\n",
    "dnext_c = np.random.randn(*next_c.shape)\n",
    "\n",
    "fx_h = lambda x: lstm.step_forward(x, prev_h, prev_c)[0]\n",
    "fh_h = lambda h: lstm.step_forward(x, prev_h, prev_c)[0]\n",
    "fc_h = lambda c: lstm.step_forward(x, prev_h, prev_c)[0]\n",
    "fWx_h = lambda Wx: lstm.step_forward(x, prev_h, prev_c)[0]\n",
    "fWh_h = lambda Wh: lstm.step_forward(x, prev_h, prev_c)[0]\n",
    "fb_h = lambda b: lstm.step_forward(x, prev_h, prev_c)[0]\n",
    "\n",
    "fx_c = lambda x: lstm.step_forward(x, prev_h, prev_c)[1]\n",
    "fh_c = lambda h: lstm.step_forward(x, prev_h, prev_c)[1]\n",
    "fc_c = lambda c: lstm.step_forward(x, prev_h, prev_c)[1]\n",
    "fWx_c = lambda Wx: lstm.step_forward(x, prev_h, prev_c)[1]\n",
    "fWh_c = lambda Wh: lstm.step_forward(x, prev_h, prev_c)[1]\n",
    "fb_c = lambda b: lstm.step_forward(x, prev_h, prev_c)[1]\n",
    "\n",
    "num_grad = eval_numerical_gradient_array\n",
    "\n",
    "dx_num = num_grad(fx_h, x, dnext_h) + num_grad(fx_c, x, dnext_c)\n",
    "dh_num = num_grad(fh_h, prev_h, dnext_h) + num_grad(fh_c, prev_h, dnext_c)\n",
    "dc_num = num_grad(fc_h, prev_c, dnext_h) + num_grad(fc_c, prev_c, dnext_c)\n",
    "dWx_num = num_grad(fWx_h, Wx, dnext_h) + num_grad(fWx_c, Wx, dnext_c)\n",
    "dWh_num = num_grad(fWh_h, Wh, dnext_h) + num_grad(fWh_c, Wh, dnext_c)\n",
    "db_num = num_grad(fb_h, b, dnext_h) + num_grad(fb_c, b, dnext_c)\n",
    "\n",
    "dx, dh, dc, dWx, dWh, db = lstm.step_backward(dnext_h, dnext_c, cache)\n",
    "\n",
    "print('dx error: ', rel_error(dx_num, dx))\n",
    "print('dh error: ', rel_error(dh_num, dh))\n",
    "print('dc error: ', rel_error(dc_num, dc))\n",
    "print('dWx error: ', rel_error(dWx_num, dWx))\n",
    "print('dWh error: ', rel_error(dWh_num, dWh))\n",
    "print('db error: ', rel_error(db_num, db))"
   ]
  },
  {
   "cell_type": "markdown",
   "metadata": {},
   "source": [
    "# LSTM: forward\n",
    "In the class `lstm` in the file `lib/layer_utils.py`, implement the `forward` function to run an LSTM forward on an entire timeseries of data.\n",
    "\n",
    "When you are done, run the following to check your implementation. You should see an error around `1e-7`."
   ]
  },
  {
   "cell_type": "code",
   "execution_count": 14,
   "metadata": {},
   "outputs": [
    {
     "name": "stdout",
     "output_type": "stream",
     "text": [
      "h error:  8.610537452106624e-08\n"
     ]
    }
   ],
   "source": [
    "%reload_ext autoreload\n",
    "\n",
    "N, D, H, T = 2, 5, 4, 3\n",
    "\n",
    "lstm = LSTM(D, H, init_scale=0.02, name='test_lstm')\n",
    "\n",
    "x = np.linspace(-0.4, 0.6, num=N*T*D).reshape(N, T, D)\n",
    "h0 = np.linspace(-0.4, 0.8, num=N*H).reshape(N, H)\n",
    "Wx = np.linspace(-0.2, 0.9, num=4*D*H).reshape(D, 4 * H)\n",
    "Wh = np.linspace(-0.3, 0.6, num=4*H*H).reshape(H, 4 * H)\n",
    "b = np.linspace(0.2, 0.7, num=4*H)\n",
    "\n",
    "lstm.params[lstm.wx_name] = Wx\n",
    "lstm.params[lstm.wh_name] = Wh\n",
    "lstm.params[lstm.b_name] = b\n",
    "\n",
    "h = lstm.forward(x, h0)\n",
    "\n",
    "expected_h = np.asarray([\n",
    " [[ 0.01764008,  0.01823233,  0.01882671,  0.0194232 ],\n",
    "  [ 0.11287491,  0.12146228,  0.13018446,  0.13902939],\n",
    "  [ 0.31358768,  0.33338627,  0.35304453,  0.37250975]],\n",
    " [[ 0.45767879,  0.4761092,   0.4936887,   0.51041945],\n",
    "  [ 0.6704845,   0.69350089,  0.71486014,  0.7346449 ],\n",
    "  [ 0.81733511,  0.83677871,  0.85403753,  0.86935314]]])\n",
    "\n",
    "print('h error: ', rel_error(expected_h, h))"
   ]
  },
  {
   "cell_type": "markdown",
   "metadata": {},
   "source": [
    "# LSTM: backward\n",
    "Implement the backward pass for an LSTM over an entire timeseries of data in the function `backward` in the `lstm` class in the file `lib/layer_utils.py`. When you are done, run the following to perform numeric gradient checking on your implementation. You should see errors around `1e-7` or less."
   ]
  },
  {
   "cell_type": "code",
   "execution_count": 15,
   "metadata": {},
   "outputs": [
    {
     "name": "stdout",
     "output_type": "stream",
     "text": [
      "dx error:  1.6466385658209974e-09\n",
      "dh0 error:  1.5859973477813254e-10\n",
      "dWx error:  1.1165085197382314e-08\n",
      "dWh error:  8.358282508972438e-08\n",
      "db error:  6.941503954933229e-10\n"
     ]
    }
   ],
   "source": [
    "%reload_ext autoreload\n",
    "\n",
    "np.random.seed(231)\n",
    "\n",
    "N, D, T, H = 2, 3, 10, 6\n",
    "\n",
    "lstm = LSTM(D, H, init_scale=0.02, name='test_lstm')\n",
    "\n",
    "x = np.random.randn(N, T, D)\n",
    "h0 = np.random.randn(N, H)\n",
    "Wx = np.random.randn(D, 4 * H)\n",
    "Wh = np.random.randn(H, 4 * H)\n",
    "b = np.random.randn(4 * H)\n",
    "\n",
    "lstm.params[lstm.wx_name] = Wx\n",
    "lstm.params[lstm.wh_name] = Wh\n",
    "lstm.params[lstm.b_name] = b\n",
    "\n",
    "out = lstm.forward(x, h0)\n",
    "\n",
    "dout = np.random.randn(*out.shape)\n",
    "\n",
    "dx, dh0 = lstm.backward(dout)\n",
    "dWx = lstm.grads[lstm.wx_name] \n",
    "dWh = lstm.grads[lstm.wh_name]\n",
    "db = lstm.grads[lstm.b_name]\n",
    "\n",
    "dx_num = eval_numerical_gradient_array(lambda x: lstm.forward(x, h0), x, dout)\n",
    "dh0_num = eval_numerical_gradient_array(lambda h0: lstm.forward(x, h0), h0, dout)\n",
    "dWx_num = eval_numerical_gradient_array(lambda Wx: lstm.forward(x, h0), Wx, dout)\n",
    "dWh_num = eval_numerical_gradient_array(lambda Wh: lstm.forward(x, h0), Wh, dout)\n",
    "db_num = eval_numerical_gradient_array(lambda b: lstm.forward(x, h0), b, dout)\n",
    "\n",
    "print('dx error: ', rel_error(dx_num, dx))\n",
    "print('dh0 error: ', rel_error(dh0_num, dh0))\n",
    "print('dWx error: ', rel_error(dWx_num, dWx))\n",
    "print('dWh error: ', rel_error(dWh_num, dWh))\n",
    "print('db error: ', rel_error(db_num, db))"
   ]
  },
  {
   "cell_type": "markdown",
   "metadata": {},
   "source": [
    "# LSTM model\n",
    "\n",
    "Now that you have implemented an LSTM, update the initialization of the `TestRNN` class in the file `lib/rnn.py` to handle the case where `self.cell_type` is `lstm`. This should require adding only one line of code.\n",
    "\n",
    "Once you have done so, run the following to check your implementation. You should see a difference of less than `1e-10`."
   ]
  },
  {
   "cell_type": "code",
   "execution_count": 16,
   "metadata": {},
   "outputs": [
    {
     "name": "stdout",
     "output_type": "stream",
     "text": [
      "loss:  49.21402563544293\n",
      "expected loss:  49.2140256354\n",
      "difference:  4.293099209462525e-11\n"
     ]
    }
   ],
   "source": [
    "%reload_ext autoreload\n",
    "\n",
    "N, D, H = 10, 20, 40\n",
    "V = 4\n",
    "T = 13\n",
    "\n",
    "model = TestRNN(D, H, cell_type='lstm')\n",
    "loss_func = temporal_softmax_loss()\n",
    "\n",
    "# Set all model parameters to fixed values\n",
    "for k, v in model.params.items():\n",
    "    model.params[k] = np.linspace(-1.4, 1.3, num=v.size).reshape(*v.shape)\n",
    "model.assign_params()\n",
    "\n",
    "features = np.linspace(-1.5, 0.3, num=(N * D * T)).reshape(N, T, D)\n",
    "h0 = np.linspace(-1.5, 0.5, num=(N*H)).reshape(N, H)\n",
    "labels = (np.arange(N * T) % V).reshape(N, T)\n",
    "\n",
    "pred = model.forward(features, h0)\n",
    "\n",
    "# You'll need this\n",
    "mask = np.ones((N, T))\n",
    "\n",
    "loss = loss_func.forward(pred, labels, mask)\n",
    "dLoss = loss_func.backward()\n",
    "\n",
    "expected_loss = 49.2140256354\n",
    "\n",
    "print('loss: ', loss)\n",
    "print('expected loss: ', expected_loss)\n",
    "print('difference: ', abs(loss - expected_loss))"
   ]
  },
  {
   "cell_type": "markdown",
   "metadata": {},
   "source": [
    "# Let's have some fun!!\n",
    "\n",
    "Now you have everything you need for language modeling. You will work on text generation using RNNs from any text source (novel, lyrics).\n",
    "\n",
    "The network is trained to predict what word is coming next given a previous word. Once you train the model, by looping the network, you can keep generating a new text which is mimicing the original text source.\n",
    "\n",
    "We will use one of the most frequently downloaded e-books, Alice's Adventures in Wonderland, from Project Gutenberg, where the original link can be found [here](https://www.gutenberg.org/ebooks/11).\n",
    "\n",
    "We extracted only the first chapter for the resources saving."
   ]
  },
  {
   "cell_type": "code",
   "execution_count": 33,
   "metadata": {},
   "outputs": [],
   "source": [
    "%reload_ext autoreload\n",
    "\n",
    "input_file = open(\"data/alice.txt\", \"r\")\n",
    "input_text = input_file.readlines()\n",
    "input_text = ''.join(input_text)"
   ]
  },
  {
   "cell_type": "markdown",
   "metadata": {},
   "source": [
    "simply run the following code to construct training dataset<br />"
   ]
  },
  {
   "cell_type": "code",
   "execution_count": 34,
   "metadata": {},
   "outputs": [
    {
     "name": "stdout",
     "output_type": "stream",
     "text": [
      "Input text size: 2170\n",
      "Input word number: 778\n"
     ]
    }
   ],
   "source": [
    "%reload_ext autoreload\n",
    "\n",
    "import re\n",
    "\n",
    "text = re.split(' |\\n',input_text.lower()) # all words are converted into lower case\n",
    "outputSize = len(text)\n",
    "word_list = list(set(text))\n",
    "dataSize = len(word_list)\n",
    "output = np.zeros(outputSize)\n",
    "for i in range(0, outputSize):\n",
    "    index = np.where(np.asarray(word_list) == text[i])\n",
    "    output[i] = index[0]\n",
    "data_labels = output.astype(np.int)\n",
    "gt_labels = data_labels[1:]\n",
    "data_labels = data_labels[:-1]\n",
    "\n",
    "print('Input text size: %s' % outputSize)\n",
    "print('Input word number: %s' % dataSize)"
   ]
  },
  {
   "cell_type": "markdown",
   "metadata": {},
   "source": [
    "We defined a LanguageModelRNN class for you to fill in the TODO block in rnn.py.\n",
    "* Here design a recurrent neutral network consisting of a word_embedding layer, recurrent unit, and temporal fully connected layers so that they match the provided dimensions.\n",
    "* Please read the train.py under lib directory carefully and complete the TODO blocks in the train_net function first."
   ]
  },
  {
   "cell_type": "code",
   "execution_count": 35,
   "metadata": {
    "scrolled": false
   },
   "outputs": [
    {
     "name": "stdout",
     "output_type": "stream",
     "text": [
      "(Iteration 1 / 12960) loss: 332.7591721278768\n",
      "best performance 4.6565237436606735%\n",
      "(Epoch 1 / 60) Training Accuracy: 0.04656523743660673\n",
      "best performance 6.316274781005071%\n",
      "(Epoch 2 / 60) Training Accuracy: 0.06316274781005071\n",
      "(Iteration 501 / 12960) loss: 260.5148955248002\n",
      "best performance 8.75979714153988%\n",
      "(Epoch 3 / 60) Training Accuracy: 0.0875979714153988\n",
      "best performance 11.387736284001845%\n",
      "(Epoch 4 / 60) Training Accuracy: 0.11387736284001844\n",
      "(Iteration 1001 / 12960) loss: 213.77471682771997\n",
      "best performance 16.64361456892577%\n",
      "(Epoch 5 / 60) Training Accuracy: 0.16643614568925771\n",
      "best performance 21.807284462886123%\n",
      "(Epoch 6 / 60) Training Accuracy: 0.21807284462886123\n",
      "(Iteration 1501 / 12960) loss: 167.25765845168635\n",
      "best performance 28.30797602581835%\n",
      "(Epoch 7 / 60) Training Accuracy: 0.2830797602581835\n",
      "best performance 35.17750115260489%\n",
      "(Epoch 8 / 60) Training Accuracy: 0.3517750115260489\n",
      "best performance 41.078838174273855%\n",
      "(Epoch 9 / 60) Training Accuracy: 0.4107883817427386\n",
      "(Iteration 2001 / 12960) loss: 136.84736026225187\n",
      "best performance 46.749654218533884%\n",
      "(Epoch 10 / 60) Training Accuracy: 0.46749654218533887\n",
      "best performance 50.62240663900415%\n",
      "(Epoch 11 / 60) Training Accuracy: 0.5062240663900415\n",
      "(Iteration 2501 / 12960) loss: 104.60598353527371\n",
      "best performance 55.232826187183036%\n",
      "(Epoch 12 / 60) Training Accuracy: 0.5523282618718304\n",
      "best performance 59.70493314891655%\n",
      "(Epoch 13 / 60) Training Accuracy: 0.5970493314891655\n",
      "(Iteration 3001 / 12960) loss: 81.51969246876752\n",
      "best performance 63.48547717842323%\n",
      "(Epoch 14 / 60) Training Accuracy: 0.6348547717842323\n",
      "best performance 66.62056247118487%\n",
      "(Epoch 15 / 60) Training Accuracy: 0.6662056247118487\n",
      "best performance 70.58552328261872%\n",
      "(Epoch 16 / 60) Training Accuracy: 0.7058552328261872\n",
      "(Iteration 3501 / 12960) loss: 73.20127163860187\n",
      "best performance 72.89073305670816%\n",
      "(Epoch 17 / 60) Training Accuracy: 0.7289073305670816\n",
      "best performance 75.42646380820655%\n",
      "(Epoch 18 / 60) Training Accuracy: 0.7542646380820655\n",
      "(Iteration 4001 / 12960) loss: 58.91954871816368\n",
      "best performance 77.82388197325957%\n",
      "(Epoch 19 / 60) Training Accuracy: 0.7782388197325957\n",
      "best performance 79.89857076994006%\n",
      "(Epoch 20 / 60) Training Accuracy: 0.7989857076994007\n",
      "(Iteration 4501 / 12960) loss: 49.05795317059615\n",
      "best performance 81.74273858921161%\n",
      "(Epoch 21 / 60) Training Accuracy: 0.8174273858921162\n",
      "best performance 83.44859382203781%\n",
      "(Epoch 22 / 60) Training Accuracy: 0.8344859382203781\n",
      "best performance 84.64730290456431%\n",
      "(Epoch 23 / 60) Training Accuracy: 0.8464730290456431\n",
      "(Iteration 5001 / 12960) loss: 44.965205954508086\n",
      "best performance 85.89211618257261%\n",
      "(Epoch 24 / 60) Training Accuracy: 0.8589211618257261\n",
      "best performance 87.50576302443523%\n",
      "(Epoch 25 / 60) Training Accuracy: 0.8750576302443522\n",
      "(Iteration 5501 / 12960) loss: 36.03638472342945\n",
      "best performance 88.56615952051636%\n",
      "(Epoch 26 / 60) Training Accuracy: 0.8856615952051636\n",
      "best performance 89.76486860304288%\n",
      "(Epoch 27 / 60) Training Accuracy: 0.8976486860304288\n",
      "(Iteration 6001 / 12960) loss: 32.57763660710159\n",
      "best performance 91.00968188105118%\n",
      "(Epoch 28 / 60) Training Accuracy: 0.9100968188105117\n",
      "best performance 91.70124481327801%\n",
      "(Epoch 29 / 60) Training Accuracy: 0.91701244813278\n",
      "best performance 92.76164130935915%\n",
      "(Epoch 30 / 60) Training Accuracy: 0.9276164130935916\n",
      "(Iteration 6501 / 12960) loss: 29.54460403767255\n",
      "best performance 93.59151682803135%\n",
      "(Epoch 31 / 60) Training Accuracy: 0.9359151682803135\n",
      "best performance 94.00645458736744%\n",
      "(Epoch 32 / 60) Training Accuracy: 0.9400645458736745\n",
      "(Iteration 7001 / 12960) loss: 22.897385034513007\n",
      "best performance 94.51360073766712%\n",
      "(Epoch 33 / 60) Training Accuracy: 0.9451360073766712\n",
      "best performance 94.55970493314891%\n",
      "(Epoch 34 / 60) Training Accuracy: 0.9455970493314891\n",
      "(Iteration 7501 / 12960) loss: 22.73771332396016\n",
      "best performance 95.11295527893037%\n",
      "(Epoch 35 / 60) Training Accuracy: 0.9511295527893038\n",
      "best performance 95.57399723374827%\n",
      "(Epoch 36 / 60) Training Accuracy: 0.9557399723374828\n",
      "best performance 96.08114338404795%\n",
      "(Epoch 37 / 60) Training Accuracy: 0.9608114338404795\n",
      "(Iteration 8001 / 12960) loss: 23.67567352271464\n",
      "best performance 96.40387275242047%\n",
      "(Epoch 38 / 60) Training Accuracy: 0.9640387275242047\n",
      "best performance 96.86491470723836%\n",
      "(Epoch 39 / 60) Training Accuracy: 0.9686491470723836\n",
      "(Iteration 8501 / 12960) loss: 20.582553588921858\n",
      "best performance 97.14153988012909%\n",
      "(Epoch 40 / 60) Training Accuracy: 0.9714153988012909\n",
      "best performance 97.32595666205624%\n",
      "(Epoch 41 / 60) Training Accuracy: 0.9732595666205625\n",
      "(Iteration 9001 / 12960) loss: 16.956245508719473\n",
      "best performance 97.69479022591055%\n",
      "(Epoch 42 / 60) Training Accuracy: 0.9769479022591055\n",
      "best performance 97.97141539880128%\n",
      "(Epoch 43 / 60) Training Accuracy: 0.9797141539880129\n",
      "(Iteration 9501 / 12960) loss: 18.79992561005201\n",
      "(Epoch 44 / 60) Training Accuracy: 0.9787920700783771\n",
      "(Epoch 45 / 60) Training Accuracy: 0.9797141539880129\n",
      "best performance 98.06362378976486%\n",
      "(Epoch 46 / 60) Training Accuracy: 0.9806362378976486\n",
      "(Iteration 10001 / 12960) loss: 14.938590837389432\n",
      "best performance 98.3402489626556%\n",
      "(Epoch 47 / 60) Training Accuracy: 0.983402489626556\n",
      "(Epoch 48 / 60) Training Accuracy: 0.983402489626556\n",
      "(Iteration 10501 / 12960) loss: 12.667865619865815\n",
      "best performance 98.43245735361917%\n",
      "(Epoch 49 / 60) Training Accuracy: 0.9843245735361917\n",
      "(Epoch 50 / 60) Training Accuracy: 0.9838635315813739\n",
      "(Iteration 11001 / 12960) loss: 9.442982458840541\n",
      "best performance 98.52466574458276%\n",
      "(Epoch 51 / 60) Training Accuracy: 0.9852466574458276\n",
      "best performance 98.70908252650992%\n",
      "(Epoch 52 / 60) Training Accuracy: 0.9870908252650992\n",
      "best performance 98.84739511295528%\n",
      "(Epoch 53 / 60) Training Accuracy: 0.9884739511295528\n",
      "(Iteration 11501 / 12960) loss: 10.588009298678015\n",
      "(Epoch 54 / 60) Training Accuracy: 0.9884739511295528\n",
      "best performance 98.93960350391886%\n",
      "(Epoch 55 / 60) Training Accuracy: 0.9893960350391886\n",
      "(Iteration 12001 / 12960) loss: 11.11240542726135\n",
      "(Epoch 56 / 60) Training Accuracy: 0.9889349930843707\n",
      "best performance 99.12402028584602%\n",
      "(Epoch 57 / 60) Training Accuracy: 0.9912402028584602\n",
      "(Iteration 12501 / 12960) loss: 10.96163346987031\n",
      "(Epoch 58 / 60) Training Accuracy: 0.9898570769940065\n",
      "(Epoch 59 / 60) Training Accuracy: 0.9903181189488244\n",
      "(Epoch 60 / 60) Training Accuracy: 0.9903181189488244\n"
     ]
    }
   ],
   "source": [
    "%reload_ext autoreload\n",
    "\n",
    "# you can change the following parameters.\n",
    "D = 20 # input dimention\n",
    "H = 30 # hidden space dimention\n",
    "T = 50 # timesteps\n",
    "N = 10 # batch size\n",
    "max_epoch = 60 # max epoch size\n",
    "\n",
    "loss_func = temporal_softmax_loss()\n",
    "# you can change the cell_type between 'rnn' and 'lstm'.\n",
    "model = LanguageModelRNN(dataSize, D, H, cell_type='rnn')\n",
    "optimizer = Adam(model, 5e-4)\n",
    "\n",
    "data = { 'data_train': data_labels, 'labels_train': gt_labels }\n",
    "\n",
    "results = train_net(data, model, loss_func, optimizer, timesteps=T, batch_size=N, max_epochs=max_epoch, verbose=True)\n"
   ]
  },
  {
   "cell_type": "markdown",
   "metadata": {},
   "source": [
    "Simply run the following code block to check the loss and accuracy curve."
   ]
  },
  {
   "cell_type": "code",
   "execution_count": 36,
   "metadata": {},
   "outputs": [
    {
     "data": {
      "image/png": "[encoded data removed]",
      "text/plain": [
       "<Figure size 1080x864 with 2 Axes>"
      ]
     },
     "metadata": {},
     "output_type": "display_data"
    }
   ],
   "source": [
    "%reload_ext autoreload\n",
    "\n",
    "opt_params, loss_hist, train_acc_hist = results\n",
    "\n",
    "# Plot the learning curves\n",
    "plt.subplot(2, 1, 1)\n",
    "plt.title('Training loss')\n",
    "loss_hist_ = loss_hist[1::100] # sparse the curve a bit\n",
    "plt.plot(loss_hist_, '-o')\n",
    "plt.xlabel('Iteration')\n",
    "\n",
    "plt.subplot(2, 1, 2)\n",
    "plt.title('Accuracy')\n",
    "plt.plot(train_acc_hist, '-o', label='Training')\n",
    "plt.xlabel('Epoch')\n",
    "plt.legend(loc='lower right')\n",
    "plt.gcf().set_size_inches(15, 12)\n",
    "\n",
    "plt.savefig(\"rnn_result.jpg\")\n",
    "plt.show()"
   ]
  },
  {
   "cell_type": "markdown",
   "metadata": {},
   "source": [
    "Now you can generate a text using the trained model. You can start from a specific word in the original text, such as `she`."
   ]
  },
  {
   "cell_type": "code",
   "execution_count": 39,
   "metadata": {},
   "outputs": [
    {
     "name": "stdout",
     "output_type": "stream",
     "text": [
      "she came upon a little three-legged table, all made of solid glass; there was nothing on it except a tiny golden key, and alice’s first thought was that it might belong to one of the shelves as she passed; it was labelled ‘orange marmalade’, but to her great disappointment it was empty: she did not like to drop the jar for fear of killing somebody, so managed to put it into one of the cupboards as she fell past it.  ‘well!’ thought alice to herself, ‘after such a fall as this, i shall think nothing of tumbling down stairs!\n"
     ]
    }
   ],
   "source": [
    "%reload_ext autoreload\n",
    "\n",
    "# you can change the generated text length below.\n",
    "text_length = 100\n",
    "\n",
    "idx = 0\n",
    "# you also can start from specific word. \n",
    "# since the words are all converted into lower case\n",
    "idx = int(np.where(np.asarray(word_list) == 'She'.lower())[0])\n",
    "\n",
    "# sample from the trained model\n",
    "words = model.sample(idx, text_length-1)\n",
    "\n",
    "# convert indices into words\n",
    "output = [ word_list[i] for i in words]\n",
    "print(' '.join(output))"
   ]
  },
  {
   "cell_type": "markdown",
   "metadata": {},
   "source": [
    "### Inline Question: Play around with different settings to get better understanding of its behavior and describe your observation. Make sure at least you cover the following points:\n",
    "* Vanilla RNN vs LSTM (you can set different time steps and test with longer texts.)\n",
    "* Problems in these approaches (there's no unique answer. just explain your own opinion from experiments.)\n",
    "#### Ans: \n",
    "**Firstly let's compare the generated output between RNN and LSTM with a series of start words. What's more, I extend the length of generated text to 100 so that we could better compare these two models.** \n",
    "> (1) She  \n",
    "LSTM Result: she was now the right size for going through the little door into that lovely garden. first, however, she waited for a few minutes to be two people. ‘but it’s no use now,’ thought poor alice, ‘to pretend to be two people! why, there’s hardly enough of me left to make one respectable person!’  soon her eye fell on a little glass box that was lying under the table: she opened it, and found in the lock, and to happen, that it led into a bat, and that’s very like a mouse, you know. but do cats eat bats,  \n",
    "RNN Result: she came upon a little three-legged table, all made of solid glass; there was nothing on it except a tiny golden key, and alice’s first thought was that it might belong to one of the shelves as she passed; it was labelled ‘orange marmalade’, but to her great disappointment it was empty: she did not like to drop the jar for fear of killing somebody, so managed to put it into one of the cupboards as she fell past it.  ‘well!’ thought alice to herself, ‘after such a fall as this, i shall think nothing of tumbling down stairs!  \n",
    "(2) There  \n",
    "LSTM Result: there was nothing else to do, so alice soon began talking again. ‘dinah’ll miss me very much to-night, i should think!’ (dinah was the cat.) ‘i hope they’ll remember her saucer of milk at tea-time. dinah my dear! i wish you were down here with me! there are no mice in the air, i’m afraid, but you might catch a bat, and that’s very like a mouse, you know. but do cats eat bats, i wonder?’ and here alice began to get rather sleepy, and went on the right size for going through the little door into that lovely garden.    \n",
    "RNN Result: there was not a moment to be lost: away went alice like the wind, and was just in time to hear it say, as it turned a corner, ‘oh my ears and whiskers, how late it’s getting!’ she was close behind it when she turned the corner, but the rabbit was no longer to be seen: she found herself in a long, low hall, which was lit up by a row of lamps hanging from the roof.  there were doors all round the hall, but they were all locked; and when alice had been all the way down one  \n",
    "(3) eat  \n",
    "LSTM Result: eat cats?’ for, you see, as she couldn’t answer either question, it didn’t much matter which way she put it. she was now the right size for going through the little door into that lovely garden. first, however, she waited for a few minutes to be two people. ‘but it’s no use now,’ thought poor alice, ‘to pretend to be two people! why, there’s hardly enough of me left to make one respectable person!’  soon her eye fell on a little glass box that was lying under the table: she opened it, and found in the lock, and to  \n",
    "RNN Result: eat bats, i wonder?’ and here alice began to get rather sleepy, and went on saying to herself, in a dreamy sort of way, ‘do cats eat bats? do cats eat bats?’ and sometimes, ‘do bats eat cats?’ for, you see, as she couldn’t answer either question, it didn’t much matter which way she put it. she felt that she was dozing off, and had just begun to dream that she was walking hand in hand with dinah, and saying to her very earnestly, ‘now, dinah, tell me the truth: did you ever eat a bat?’ when suddenly, thump! thump!   \n",
    "\n",
    "**Evaluation Vanilla RNN vs LSTM**  \n",
    "(1)Speaking of convergence speed, LSTM is more complicated than Vanilla RNN while it will take longer time to train LSTM. Actually with the plot of training loss/accuracy, we could also find that LSTM converged slower than Vanilla RNN. (For 0.9 accuracy, RNN takes 25 epoches, and LSTM takes 40 ones)  \n",
    "(2)Speaking of performance, LSTM **is supposed to perform better** than Vanilla RNN **in terms of longer dependency and vanishing gradient**. From the samples above (each model reach above 0.95 accuracy), LSTM will generate more **meaningful** result with **fewer grammatical mistakes** than Vanilla RNN. For example, take 'She' as an example. LSTM generates a logical story where 'alice waited and went through door with hesitation' while RNN just concats some sentences. Also, LSTM's generation contain fewer grammatical mistakes. However, because of limited text, Vanilla RNN kind of match or overperform the performance of LSTM in some cases. Both models are trained on limited dataset, so this overperform phenonmeon is possible.  \n",
    "\n",
    "**Problems in these approches**  \n",
    "(1) Lack of validation set. The language model only use and optimize training dataset but forget to evaulate on validation set. Therefore, it's hard to evaluate whether the model is trained overfitting or not. (In fact, if I take large hidden dim, it's quite likely to overfit)  \n",
    "(2) both result seems to concat original sentences into new result since language model just take this single text as input. Limited to dataset, it's reasonable that the generation is bad.  \n",
    "(3) repeated paragraphs in generation. (Like sample (1) She by LSTM)"
   ]
  },
  {
   "cell_type": "code",
   "execution_count": null,
   "metadata": {},
   "outputs": [],
   "source": []
  }
 ],
 "metadata": {
  "kernelspec": {
   "display_name": "Python 3",
   "language": "python",
   "name": "python3"
  },
  "language_info": {
   "codemirror_mode": {
    "name": "ipython",
    "version": 3
   },
   "file_extension": ".py",
   "mimetype": "text/x-python",
   "name": "python",
   "nbconvert_exporter": "python",
   "pygments_lexer": "ipython3",
   "version": "3.5.3"
  }
 },
 "nbformat": 4,
 "nbformat_minor": 2
}
